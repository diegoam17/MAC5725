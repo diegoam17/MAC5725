{
 "cells": [
  {
   "cell_type": "markdown",
   "metadata": {},
   "source": [
    "# PARTE 1: Preliminares"
   ]
  },
  {
   "cell_type": "code",
   "execution_count": 1,
   "metadata": {
    "collapsed": true
   },
   "outputs": [],
   "source": [
    "import re\n",
    "import random\n",
    "import numpy as np\n",
    "import datetime\n",
    "import gc"
   ]
  },
  {
   "cell_type": "code",
   "execution_count": 2,
   "metadata": {
    "collapsed": true
   },
   "outputs": [],
   "source": [
    "# lê o corpus usando utf-8\n",
    "with open(r'CETENFolha-1.0_jan2014.cg',encoding='utf-8') as f:\n",
    "    corpus=f.read()\n",
    "corpus=re.sub('<s frag>','<s>',corpus)"
   ]
  },
  {
   "cell_type": "code",
   "execution_count": 3,
   "metadata": {},
   "outputs": [
    {
     "name": "stdout",
     "output_type": "stream",
     "text": [
      "2018-10-08 02:51:07.338028\n",
      "1500000\n",
      "1400000\n",
      "1300000\n",
      "1200000\n",
      "1100000\n",
      "1000000\n",
      "900000\n",
      "800000\n",
      "700000\n",
      "600000\n",
      "500000\n",
      "400000\n",
      "300000\n",
      "200000\n",
      "100000\n",
      "0\n",
      "2018-10-08 03:02:02.196038\n"
     ]
    }
   ],
   "source": [
    "print(datetime.datetime.now())\n",
    "sentencas=re.split('<s>',corpus) #separa as sentenças\n",
    "sentencas_deletadas=[] #armazena todas as sentenças que serão deletadas, apenas para conferir se nada importante está sendo jogado fora\n",
    "for i in reversed(range(len(sentencas))): #itera nas sentenças\n",
    "    if i%100000==0:\n",
    "        print(i)\n",
    "    sentencas[i]=sentencas[i].split('\\n') #separa a sentença em linhas\n",
    "    sentencas[i]=[linha for linha in sentencas[i] if (len(linha)!=0 and linha[0]!='<')] #exclue as linhas vazias ou que começam com '<'\n",
    "    if len(sentencas[i])==0: #se a sentença for vazia, é retirada\n",
    "        del sentencas[i]\n",
    "        continue\n",
    "    for j in reversed(range(len(sentencas[i]))): \n",
    "        try:\n",
    "            if re.search('^\\$\\S',sentencas[i][j]) and not re.search('^\\$\\([0-9-]+\\)=',sentencas[i][j]): #caso seja pontuaçao, mas não seja número de telefone\n",
    "                token=re.findall('^\\$(\\S+)',sentencas[i][j])[0].lower()\n",
    "                if token in ['!','?','.',':']:\n",
    "                    pos='.'\n",
    "                else:\n",
    "                    pos=','\n",
    "                sentencas[i][j]=(token,pos)#,sentencas[i][j])\n",
    "            else: #caso seja palavra ou número de telefone\n",
    "                sentencas[i][j]=sentencas[i][j].replace(' Pr ',' PR ').replace(' Iremp ',' IREMP ')\n",
    "                token=re.findall('^\\S+',sentencas[i][j])[0].lower()\n",
    "                pos=sentencas[i][j]\n",
    "                pos=re.sub('^\\S+','',pos)\n",
    "                pos=re.sub('[@#].*$','',pos)\n",
    "                pos=re.sub('<[\\S]+','',pos)\n",
    "                pos=re.sub('[\\S]+>','',pos)\n",
    "                pos=re.sub('\\[.*?\\]','',pos)\n",
    "                pos=re.sub('-[a-zØ-öø-ÿ]+','',pos)\n",
    "                pos=re.sub('[a-zØ-öø-ÿ]+-','',pos)\n",
    "                pos=re.sub('\\t','',pos)\n",
    "                pos=re.sub('[a-z]','',pos)\n",
    "                pos=re.sub('GER','',pos)\n",
    "                pos=re.sub('PRON','N',pos)\n",
    "                pos=pos.strip()\n",
    "                pos=pos.split()[0]\n",
    "                if pos=='M':\n",
    "                    raise Exception('pos==M')\n",
    "                if pos=='[':\n",
    "                    raise Exception('pos==[')\n",
    "                if pos=='PRP_DET':\n",
    "                    raise Exception('pos==PRP_DET')\n",
    "                if pos=='PP':\n",
    "                    raise Exception('pos==PP')\n",
    "                sentencas[i][j]=(token,pos)#,sentencas[i][j])\n",
    "            \n",
    "        except:\n",
    "            if 'sem=' in sentencas[i][j]: #deleta somente o token da sentença\n",
    "                del sentencas[i][j]\n",
    "            else: #deleta a sentença inteira\n",
    "                sentencas_deletadas.append(sentencas[i])\n",
    "                del sentencas[i]\n",
    "                break\n",
    "print(datetime.datetime.now())"
   ]
  },
  {
   "cell_type": "code",
   "execution_count": 4,
   "metadata": {},
   "outputs": [
    {
     "data": {
      "text/plain": [
       "0"
      ]
     },
     "execution_count": 4,
     "metadata": {},
     "output_type": "execute_result"
    }
   ],
   "source": [
    "corpus=''\n",
    "gc.collect()"
   ]
  },
  {
   "cell_type": "code",
   "execution_count": 5,
   "metadata": {
    "scrolled": true
   },
   "outputs": [
    {
     "name": "stdout",
     "output_type": "stream",
     "text": [
      "0\n",
      "100000\n",
      "200000\n",
      "300000\n",
      "400000\n",
      "500000\n",
      "600000\n",
      "700000\n",
      "800000\n",
      "900000\n",
      "1000000\n",
      "1100000\n",
      "1200000\n",
      "1300000\n",
      "1400000\n",
      "1500000\n"
     ]
    }
   ],
   "source": [
    "dict_freq={}\n",
    "full_pos=set({})\n",
    "for i in range(len(sentencas)):\n",
    "    if i%100000==0:\n",
    "        print(i)\n",
    "    for j in range(len(sentencas[i])):\n",
    "        if sentencas[i][j][0] not in dict_freq:\n",
    "            dict_freq[sentencas[i][j][0]]={}\n",
    "        try:\n",
    "            dict_freq[sentencas[i][j][0]][sentencas[i][j][1]]=dict_freq[sentencas[i][j][0]].get(sentencas[i][j][1],0)+1\n",
    "            full_pos.add(sentencas[i][j][1])\n",
    "        except:\n",
    "            print(i,j)\n",
    "            print(sentencas[i][j])\n"
   ]
  },
  {
   "cell_type": "code",
   "execution_count": 6,
   "metadata": {
    "collapsed": true
   },
   "outputs": [],
   "source": [
    "for token in dict_freq:\n",
    "    max_pos = max(dict_freq[token], key=dict_freq[token].get)\n",
    "    dict_freq[token]['max_pos']=max_pos"
   ]
  },
  {
   "cell_type": "raw",
   "metadata": {},
   "source": [
    "dict_freq"
   ]
  },
  {
   "cell_type": "code",
   "execution_count": 7,
   "metadata": {},
   "outputs": [
    {
     "name": "stdout",
     "output_type": "stream",
     "text": [
      "0\n",
      "100000\n",
      "200000\n",
      "300000\n",
      "400000\n",
      "500000\n",
      "600000\n",
      "700000\n",
      "800000\n",
      "900000\n",
      "1000000\n",
      "1100000\n",
      "1200000\n",
      "1300000\n",
      "1400000\n",
      "1500000\n"
     ]
    }
   ],
   "source": [
    "total=0\n",
    "corretos=0\n",
    "for i in range(len(sentencas)):\n",
    "    if i%100000==0:\n",
    "        print(i)\n",
    "    for j in range(len(sentencas[i])):\n",
    "        total+=1\n",
    "#         sentencas[i][j]=sentencas[i][j]+tuple([dict_freq[sentencas[i][j][0]]['max_pos']])\n",
    "#         if sentencas[i][j][1]==sentencas[i][j][4]:\n",
    "        if sentencas[i][j][1]==dict_freq[sentencas[i][j][0]]['max_pos']:\n",
    "            corretos+=1"
   ]
  },
  {
   "cell_type": "code",
   "execution_count": 8,
   "metadata": {},
   "outputs": [
    {
     "data": {
      "text/plain": [
       "{',',\n",
       " '.',\n",
       " 'ADJ',\n",
       " 'ADV',\n",
       " 'DET',\n",
       " 'EC',\n",
       " 'IN',\n",
       " 'KC',\n",
       " 'KS',\n",
       " 'N',\n",
       " 'NUM',\n",
       " 'PERS',\n",
       " 'PROP',\n",
       " 'PRP',\n",
       " 'SPEC',\n",
       " 'V'}"
      ]
     },
     "execution_count": 8,
     "metadata": {},
     "output_type": "execute_result"
    }
   ],
   "source": [
    "full_pos"
   ]
  },
  {
   "cell_type": "code",
   "execution_count": 9,
   "metadata": {},
   "outputs": [
    {
     "data": {
      "text/plain": [
       "16"
      ]
     },
     "execution_count": 9,
     "metadata": {},
     "output_type": "execute_result"
    }
   ],
   "source": [
    "len(full_pos)"
   ]
  },
  {
   "cell_type": "code",
   "execution_count": 10,
   "metadata": {},
   "outputs": [
    {
     "data": {
      "text/plain": [
       "27565496"
      ]
     },
     "execution_count": 10,
     "metadata": {},
     "output_type": "execute_result"
    }
   ],
   "source": [
    "total"
   ]
  },
  {
   "cell_type": "code",
   "execution_count": 11,
   "metadata": {},
   "outputs": [
    {
     "data": {
      "text/plain": [
       "26336323"
      ]
     },
     "execution_count": 11,
     "metadata": {},
     "output_type": "execute_result"
    }
   ],
   "source": [
    "corretos"
   ]
  },
  {
   "cell_type": "code",
   "execution_count": 12,
   "metadata": {},
   "outputs": [
    {
     "data": {
      "text/plain": [
       "0.9554090011658053"
      ]
     },
     "execution_count": 12,
     "metadata": {},
     "output_type": "execute_result"
    }
   ],
   "source": [
    "corretos/total"
   ]
  },
  {
   "cell_type": "code",
   "execution_count": 13,
   "metadata": {},
   "outputs": [
    {
     "name": "stdout",
     "output_type": "stream",
     "text": [
      "2018-10-08 03:03:10.944182\n"
     ]
    }
   ],
   "source": [
    "print(datetime.datetime.now())"
   ]
  },
  {
   "cell_type": "markdown",
   "metadata": {},
   "source": [
    "# PARTE 2: Etiquetagem por Contagem"
   ]
  },
  {
   "cell_type": "code",
   "execution_count": 14,
   "metadata": {},
   "outputs": [
    {
     "name": "stdout",
     "output_type": "stream",
     "text": [
      "2018-10-08 03:03:10.962194\n"
     ]
    }
   ],
   "source": [
    "print(datetime.datetime.now())"
   ]
  },
  {
   "cell_type": "code",
   "execution_count": 15,
   "metadata": {
    "collapsed": true
   },
   "outputs": [],
   "source": [
    "sentencas_shuffle=list(sentencas)"
   ]
  },
  {
   "cell_type": "code",
   "execution_count": 16,
   "metadata": {
    "collapsed": true
   },
   "outputs": [],
   "source": [
    "random.shuffle(sentencas_shuffle)"
   ]
  },
  {
   "cell_type": "code",
   "execution_count": 17,
   "metadata": {
    "collapsed": true
   },
   "outputs": [],
   "source": [
    "n_treino=round(len(sentencas_shuffle)*0.8)"
   ]
  },
  {
   "cell_type": "code",
   "execution_count": 18,
   "metadata": {
    "collapsed": true
   },
   "outputs": [],
   "source": [
    "sentencas_treino=sentencas_shuffle[:n_treino]"
   ]
  },
  {
   "cell_type": "code",
   "execution_count": 19,
   "metadata": {
    "collapsed": true
   },
   "outputs": [],
   "source": [
    "sentencas_teste=sentencas_shuffle[n_treino:]"
   ]
  },
  {
   "cell_type": "code",
   "execution_count": 47,
   "metadata": {},
   "outputs": [
    {
     "data": {
      "text/plain": [
       "1276098"
      ]
     },
     "execution_count": 47,
     "metadata": {},
     "output_type": "execute_result"
    }
   ],
   "source": [
    "len(sentencas_treino)"
   ]
  },
  {
   "cell_type": "code",
   "execution_count": 20,
   "metadata": {
    "collapsed": true
   },
   "outputs": [],
   "source": [
    "colunas=sorted(list(full_pos)+['INICIO','FIM'])\n",
    "linhas=[()]\n",
    "HMM_order=2\n",
    "for i in range(HMM_order):\n",
    "    for j in reversed(range(len(linhas))):\n",
    "        for k in reversed(range(len(colunas))):\n",
    "            linhas.append(linhas[j]+(colunas[k],))\n",
    "        del linhas[j]\n"
   ]
  },
  {
   "cell_type": "code",
   "execution_count": 21,
   "metadata": {},
   "outputs": [
    {
     "name": "stdout",
     "output_type": "stream",
     "text": [
      "0\n",
      "100000\n",
      "200000\n",
      "300000\n",
      "400000\n",
      "500000\n",
      "600000\n",
      "700000\n",
      "800000\n",
      "900000\n",
      "1000000\n",
      "1100000\n",
      "1200000\n"
     ]
    }
   ],
   "source": [
    "A=np.zeros((len(linhas),len(colunas)),np.int)\n",
    "\n",
    "B={}\n",
    "for i in range(len(sentencas_treino)):\n",
    "    if i%100000==0:\n",
    "        print(i)\n",
    "    sent=[(None,'INICIO',None,None,None)]*2+sentencas_treino[i]+[('%%%%%','FIM',None,None,None)]\n",
    "    for j in range(2,len(sent)):\n",
    "        A[linhas.index((sent[j-2][1],sent[j-1][1])),colunas.index(sent[j][1])]+=1\n",
    "        if sent[j][1] not in B:\n",
    "            B[sent[j][1]]={}\n",
    "        B[sent[j][1]][sent[j][0]]=B[sent[j][1]].get(sent[j][0],0)+1\n",
    "A=A+np.ones(A.shape)/10\n",
    "A=A/A.sum(axis=1).reshape(len(linhas),1)\n",
    "A=np.log(A)\n",
    "for key in B:\n",
    "    B[key]['#####']=0.1\n",
    "    soma=sum(B[key].values())\n",
    "    for keykey in B[key]:\n",
    "        B[key][keykey]=np.log(B[key][keykey]/soma)"
   ]
  },
  {
   "cell_type": "markdown",
   "metadata": {},
   "source": [
    "## Daqui para frente roda o Viterbi de 10k em 10k sentenças"
   ]
  },
  {
   "cell_type": "code",
   "execution_count": 22,
   "metadata": {
    "scrolled": true
   },
   "outputs": [
    {
     "name": "stdout",
     "output_type": "stream",
     "text": [
      "2018-10-08 03:06:43.862926\n",
      "0\n",
      "100\n",
      "200\n",
      "300\n",
      "400\n",
      "500\n",
      "600\n",
      "700\n",
      "800\n",
      "900\n",
      "1000\n",
      "1100\n",
      "1200\n",
      "1300\n",
      "1400\n",
      "1500\n",
      "1600\n",
      "1700\n",
      "1800\n",
      "1900\n",
      "2000\n",
      "2100\n",
      "2200\n",
      "2300\n",
      "2400\n",
      "2500\n",
      "2600\n",
      "2700\n",
      "2800\n",
      "2900\n",
      "3000\n",
      "3100\n",
      "3200\n",
      "3300\n",
      "3400\n",
      "3500\n",
      "3600\n",
      "3700\n",
      "3800\n",
      "3900\n",
      "4000\n",
      "4100\n",
      "4200\n",
      "4300\n",
      "4400\n",
      "4500\n",
      "4600\n",
      "4700\n",
      "4800\n",
      "4900\n",
      "5000\n",
      "5100\n",
      "5200\n",
      "5300\n",
      "5400\n",
      "5500\n",
      "5600\n",
      "5700\n",
      "5800\n",
      "5900\n",
      "6000\n",
      "6100\n",
      "6200\n",
      "6300\n",
      "6400\n",
      "6500\n",
      "6600\n",
      "6700\n",
      "6800\n",
      "6900\n",
      "7000\n",
      "7100\n",
      "7200\n",
      "7300\n",
      "7400\n",
      "7500\n",
      "7600\n",
      "7700\n",
      "7800\n",
      "7900\n",
      "8000\n",
      "8100\n",
      "8200\n",
      "8300\n",
      "8400\n",
      "8500\n",
      "8600\n",
      "8700\n",
      "8800\n",
      "8900\n",
      "9000\n",
      "9100\n",
      "9200\n",
      "9300\n",
      "9400\n",
      "9500\n",
      "9600\n",
      "9700\n",
      "9800\n",
      "9900\n",
      "2018-10-08 05:03:45.817867\n"
     ]
    }
   ],
   "source": [
    "# for i in range(len(sentencas_teste)):\n",
    "print(datetime.datetime.now())\n",
    "cont=0\n",
    "testes_classificados=[]\n",
    "for i in range(10000):\n",
    "    if i%100==0:\n",
    "        print(i)\n",
    "    sent=sentencas_teste[i]+[('%%%%%','FIM',None,None,None)]\n",
    "    viterbi={}\n",
    "    viterbi[('INICIO','INICIO')]=[('INICIO',0),('INICIO',0)]\n",
    "    \n",
    "    for j in range(len(sent)):\n",
    "        viterbi_old=dict(viterbi)\n",
    "        viterbi={}\n",
    "        for key in viterbi_old:\n",
    "            for l in range(len(colunas)):\n",
    "                if colunas[l]=='INICIO':\n",
    "                    continue\n",
    "                emissao=max(B[colunas[l]].get(sent[j][0],np.NINF),B[colunas[l]]['#####'])\n",
    "                log_prob=viterbi_old[key][-1][1]+A[linhas.index(key),l]+emissao\n",
    "                if viterbi.get((key[1],colunas[l]),[(None,np.NINF)])[-1][1]<log_prob:\n",
    "                    viterbi[(key[1],colunas[l])]=viterbi_old[key]+[(colunas[l],log_prob)]\n",
    "    testes_classificados.append(max([viterbi[key] for key in viterbi],key=lambda x:x[-1][1])[2:])\n",
    "print(datetime.datetime.now())"
   ]
  },
  {
   "cell_type": "code",
   "execution_count": 23,
   "metadata": {
    "scrolled": true
   },
   "outputs": [
    {
     "name": "stdout",
     "output_type": "stream",
     "text": [
      "2018-10-08 05:03:45.932152\n",
      "10000\n",
      "10100\n",
      "10200\n",
      "10300\n",
      "10400\n",
      "10500\n",
      "10600\n",
      "10700\n",
      "10800\n",
      "10900\n",
      "11000\n",
      "11100\n",
      "11200\n",
      "11300\n",
      "11400\n",
      "11500\n",
      "11600\n",
      "11700\n",
      "11800\n",
      "11900\n",
      "12000\n",
      "12100\n",
      "12200\n",
      "12300\n",
      "12400\n",
      "12500\n",
      "12600\n",
      "12700\n",
      "12800\n",
      "12900\n",
      "13000\n",
      "13100\n",
      "13200\n",
      "13300\n",
      "13400\n",
      "13500\n",
      "13600\n",
      "13700\n",
      "13800\n",
      "13900\n",
      "14000\n",
      "14100\n",
      "14200\n",
      "14300\n",
      "14400\n",
      "14500\n",
      "14600\n",
      "14700\n",
      "14800\n",
      "14900\n",
      "15000\n",
      "15100\n",
      "15200\n",
      "15300\n",
      "15400\n",
      "15500\n",
      "15600\n",
      "15700\n",
      "15800\n",
      "15900\n",
      "16000\n",
      "16100\n",
      "16200\n",
      "16300\n",
      "16400\n",
      "16500\n",
      "16600\n",
      "16700\n",
      "16800\n",
      "16900\n",
      "17000\n",
      "17100\n",
      "17200\n",
      "17300\n",
      "17400\n",
      "17500\n",
      "17600\n",
      "17700\n",
      "17800\n",
      "17900\n",
      "18000\n",
      "18100\n",
      "18200\n",
      "18300\n",
      "18400\n",
      "18500\n",
      "18600\n",
      "18700\n",
      "18800\n",
      "18900\n",
      "19000\n",
      "19100\n",
      "19200\n",
      "19300\n",
      "19400\n",
      "19500\n",
      "19600\n",
      "19700\n",
      "19800\n",
      "19900\n",
      "2018-10-08 06:59:12.094964\n"
     ]
    }
   ],
   "source": [
    "# for i in range(len(sentencas_teste)):\n",
    "print(datetime.datetime.now())\n",
    "cont=0\n",
    "# testes_classificados=[]\n",
    "for i in range(10000,20000):\n",
    "    if i%100==0:\n",
    "        print(i)\n",
    "    sent=sentencas_teste[i]+[('%%%%%','FIM',None,None,None)]\n",
    "    viterbi={}\n",
    "    viterbi[('INICIO','INICIO')]=[('INICIO',0),('INICIO',0)]\n",
    "    \n",
    "    for j in range(len(sent)):\n",
    "        viterbi_old=dict(viterbi)\n",
    "        viterbi={}\n",
    "        for key in viterbi_old:\n",
    "            for l in range(len(colunas)):\n",
    "                if colunas[l]=='INICIO':\n",
    "                    continue\n",
    "                emissao=max(B[colunas[l]].get(sent[j][0],np.NINF),B[colunas[l]]['#####'])\n",
    "                log_prob=viterbi_old[key][-1][1]+A[linhas.index(key),l]+emissao\n",
    "                if viterbi.get((key[1],colunas[l]),[(None,np.NINF)])[-1][1]<log_prob:\n",
    "                    viterbi[(key[1],colunas[l])]=viterbi_old[key]+[(colunas[l],log_prob)]\n",
    "    testes_classificados.append(max([viterbi[key] for key in viterbi],key=lambda x:x[-1][1])[2:])\n",
    "print(datetime.datetime.now())"
   ]
  },
  {
   "cell_type": "code",
   "execution_count": 24,
   "metadata": {
    "scrolled": true
   },
   "outputs": [
    {
     "name": "stdout",
     "output_type": "stream",
     "text": [
      "2018-10-08 06:59:12.136573\n",
      "20000\n",
      "20100\n",
      "20200\n",
      "20300\n",
      "20400\n",
      "20500\n",
      "20600\n",
      "20700\n",
      "20800\n",
      "20900\n",
      "21000\n",
      "21100\n",
      "21200\n",
      "21300\n",
      "21400\n",
      "21500\n",
      "21600\n",
      "21700\n",
      "21800\n",
      "21900\n",
      "22000\n",
      "22100\n",
      "22200\n",
      "22300\n",
      "22400\n",
      "22500\n",
      "22600\n",
      "22700\n",
      "22800\n",
      "22900\n",
      "23000\n",
      "23100\n",
      "23200\n",
      "23300\n",
      "23400\n",
      "23500\n",
      "23600\n",
      "23700\n",
      "23800\n",
      "23900\n",
      "24000\n",
      "24100\n",
      "24200\n",
      "24300\n",
      "24400\n",
      "24500\n",
      "24600\n",
      "24700\n",
      "24800\n",
      "24900\n",
      "25000\n",
      "25100\n",
      "25200\n",
      "25300\n",
      "25400\n",
      "25500\n",
      "25600\n",
      "25700\n",
      "25800\n",
      "25900\n",
      "26000\n",
      "26100\n",
      "26200\n",
      "26300\n",
      "26400\n",
      "26500\n",
      "26600\n",
      "26700\n",
      "26800\n",
      "26900\n",
      "27000\n",
      "27100\n",
      "27200\n",
      "27300\n",
      "27400\n",
      "27500\n",
      "27600\n",
      "27700\n",
      "27800\n",
      "27900\n",
      "28000\n",
      "28100\n",
      "28200\n",
      "28300\n",
      "28400\n",
      "28500\n",
      "28600\n",
      "28700\n",
      "28800\n",
      "28900\n",
      "29000\n",
      "29100\n",
      "29200\n",
      "29300\n",
      "29400\n",
      "29500\n",
      "29600\n",
      "29700\n",
      "29800\n",
      "29900\n",
      "2018-10-08 08:52:55.018377\n"
     ]
    }
   ],
   "source": [
    "# for i in range(len(sentencas_teste)):\n",
    "print(datetime.datetime.now())\n",
    "cont=0\n",
    "# testes_classificados=[]\n",
    "for i in range(20000,30000):\n",
    "    if i%100==0:\n",
    "        print(i)\n",
    "    sent=sentencas_teste[i]+[('%%%%%','FIM',None,None,None)]\n",
    "    viterbi={}\n",
    "    viterbi[('INICIO','INICIO')]=[('INICIO',0),('INICIO',0)]\n",
    "    \n",
    "    for j in range(len(sent)):\n",
    "        viterbi_old=dict(viterbi)\n",
    "        viterbi={}\n",
    "        for key in viterbi_old:\n",
    "            for l in range(len(colunas)):\n",
    "                if colunas[l]=='INICIO':\n",
    "                    continue\n",
    "                emissao=max(B[colunas[l]].get(sent[j][0],np.NINF),B[colunas[l]]['#####'])\n",
    "                log_prob=viterbi_old[key][-1][1]+A[linhas.index(key),l]+emissao\n",
    "                if viterbi.get((key[1],colunas[l]),[(None,np.NINF)])[-1][1]<log_prob:\n",
    "                    viterbi[(key[1],colunas[l])]=viterbi_old[key]+[(colunas[l],log_prob)]\n",
    "    testes_classificados.append(max([viterbi[key] for key in viterbi],key=lambda x:x[-1][1])[2:])\n",
    "print(datetime.datetime.now())"
   ]
  },
  {
   "cell_type": "code",
   "execution_count": 25,
   "metadata": {
    "scrolled": true
   },
   "outputs": [
    {
     "name": "stdout",
     "output_type": "stream",
     "text": [
      "2018-10-08 10:08:29.879777\n",
      "30000\n",
      "30100\n",
      "30200\n",
      "30300\n",
      "30400\n",
      "30500\n",
      "30600\n",
      "30700\n",
      "30800\n",
      "30900\n",
      "31000\n",
      "31100\n",
      "31200\n",
      "31300\n",
      "31400\n",
      "31500\n",
      "31600\n",
      "31700\n",
      "31800\n",
      "31900\n",
      "32000\n",
      "32100\n",
      "32200\n",
      "32300\n",
      "32400\n",
      "32500\n",
      "32600\n",
      "32700\n",
      "32800\n",
      "32900\n",
      "33000\n",
      "33100\n",
      "33200\n",
      "33300\n",
      "33400\n",
      "33500\n",
      "33600\n",
      "33700\n",
      "33800\n",
      "33900\n",
      "34000\n",
      "34100\n",
      "34200\n",
      "34300\n",
      "34400\n",
      "34500\n",
      "34600\n",
      "34700\n",
      "34800\n",
      "34900\n",
      "35000\n",
      "35100\n",
      "35200\n",
      "35300\n",
      "35400\n",
      "35500\n",
      "35600\n",
      "35700\n",
      "35800\n",
      "35900\n",
      "36000\n",
      "36100\n",
      "36200\n",
      "36300\n",
      "36400\n",
      "36500\n",
      "36600\n",
      "36700\n",
      "36800\n",
      "36900\n",
      "37000\n",
      "37100\n",
      "37200\n",
      "37300\n",
      "37400\n",
      "37500\n",
      "37600\n",
      "37700\n",
      "37800\n",
      "37900\n",
      "38000\n",
      "38100\n",
      "38200\n",
      "38300\n",
      "38400\n",
      "38500\n",
      "38600\n",
      "38700\n",
      "38800\n",
      "38900\n",
      "39000\n",
      "39100\n",
      "39200\n",
      "39300\n",
      "39400\n",
      "39500\n",
      "39600\n",
      "39700\n",
      "39800\n",
      "39900\n",
      "2018-10-08 12:04:08.334056\n"
     ]
    }
   ],
   "source": [
    "# for i in range(len(sentencas_teste)):\n",
    "print(datetime.datetime.now())\n",
    "cont=0\n",
    "# testes_classificados=[]\n",
    "for i in range(30000,40000):\n",
    "    if i%100==0:\n",
    "        print(i)\n",
    "    sent=sentencas_teste[i]+[('%%%%%','FIM',None,None,None)]\n",
    "    viterbi={}\n",
    "    viterbi[('INICIO','INICIO')]=[('INICIO',0),('INICIO',0)]\n",
    "    \n",
    "    for j in range(len(sent)):\n",
    "        viterbi_old=dict(viterbi)\n",
    "        viterbi={}\n",
    "        for key in viterbi_old:\n",
    "            for l in range(len(colunas)):\n",
    "                if colunas[l]=='INICIO':\n",
    "                    continue\n",
    "                emissao=max(B[colunas[l]].get(sent[j][0],np.NINF),B[colunas[l]]['#####'])\n",
    "                log_prob=viterbi_old[key][-1][1]+A[linhas.index(key),l]+emissao\n",
    "                if viterbi.get((key[1],colunas[l]),[(None,np.NINF)])[-1][1]<log_prob:\n",
    "                    viterbi[(key[1],colunas[l])]=viterbi_old[key]+[(colunas[l],log_prob)]\n",
    "    testes_classificados.append(max([viterbi[key] for key in viterbi],key=lambda x:x[-1][1])[2:])\n",
    "print(datetime.datetime.now())"
   ]
  },
  {
   "cell_type": "code",
   "execution_count": 26,
   "metadata": {
    "scrolled": true
   },
   "outputs": [
    {
     "name": "stdout",
     "output_type": "stream",
     "text": [
      "2018-10-08 13:28:24.127391\n",
      "40000\n",
      "40100\n",
      "40200\n",
      "40300\n",
      "40400\n",
      "40500\n",
      "40600\n",
      "40700\n",
      "40800\n",
      "40900\n",
      "41000\n",
      "41100\n",
      "41200\n",
      "41300\n",
      "41400\n",
      "41500\n",
      "41600\n",
      "41700\n",
      "41800\n",
      "41900\n",
      "42000\n",
      "42100\n",
      "42200\n",
      "42300\n",
      "42400\n",
      "42500\n",
      "42600\n",
      "42700\n",
      "42800\n",
      "42900\n",
      "43000\n",
      "43100\n",
      "43200\n",
      "43300\n",
      "43400\n",
      "43500\n",
      "43600\n",
      "43700\n",
      "43800\n",
      "43900\n",
      "44000\n",
      "44100\n",
      "44200\n",
      "44300\n",
      "44400\n",
      "44500\n",
      "44600\n",
      "44700\n",
      "44800\n",
      "44900\n",
      "45000\n",
      "45100\n",
      "45200\n",
      "45300\n",
      "45400\n",
      "45500\n",
      "45600\n",
      "45700\n",
      "45800\n",
      "45900\n",
      "46000\n",
      "46100\n",
      "46200\n",
      "46300\n",
      "46400\n",
      "46500\n",
      "46600\n",
      "46700\n",
      "46800\n",
      "46900\n",
      "47000\n",
      "47100\n",
      "47200\n",
      "47300\n",
      "47400\n",
      "47500\n",
      "47600\n",
      "47700\n",
      "47800\n",
      "47900\n",
      "48000\n",
      "48100\n",
      "48200\n",
      "48300\n",
      "48400\n",
      "48500\n",
      "48600\n",
      "48700\n",
      "48800\n",
      "48900\n",
      "49000\n",
      "49100\n",
      "49200\n",
      "49300\n",
      "49400\n",
      "49500\n",
      "49600\n",
      "49700\n",
      "49800\n",
      "49900\n",
      "2018-10-08 15:42:09.786142\n"
     ]
    }
   ],
   "source": [
    "# for i in range(len(sentencas_teste)):\n",
    "print(datetime.datetime.now())\n",
    "cont=0\n",
    "# testes_classificados=[]\n",
    "for i in range(40000,50000):\n",
    "    if i%100==0:\n",
    "        print(i)\n",
    "    sent=sentencas_teste[i]+[('%%%%%','FIM',None,None,None)]\n",
    "    viterbi={}\n",
    "    viterbi[('INICIO','INICIO')]=[('INICIO',0),('INICIO',0)]\n",
    "    \n",
    "    for j in range(len(sent)):\n",
    "        viterbi_old=dict(viterbi)\n",
    "        viterbi={}\n",
    "        for key in viterbi_old:\n",
    "            for l in range(len(colunas)):\n",
    "                if colunas[l]=='INICIO':\n",
    "                    continue\n",
    "                emissao=max(B[colunas[l]].get(sent[j][0],np.NINF),B[colunas[l]]['#####'])\n",
    "                log_prob=viterbi_old[key][-1][1]+A[linhas.index(key),l]+emissao\n",
    "                if viterbi.get((key[1],colunas[l]),[(None,np.NINF)])[-1][1]<log_prob:\n",
    "                    viterbi[(key[1],colunas[l])]=viterbi_old[key]+[(colunas[l],log_prob)]\n",
    "    testes_classificados.append(max([viterbi[key] for key in viterbi],key=lambda x:x[-1][1])[2:])\n",
    "print(datetime.datetime.now())"
   ]
  },
  {
   "cell_type": "code",
   "execution_count": 33,
   "metadata": {
    "scrolled": true
   },
   "outputs": [
    {
     "name": "stdout",
     "output_type": "stream",
     "text": [
      "2018-10-08 17:02:10.716220\n",
      "50000\n",
      "50100\n",
      "50200\n",
      "50300\n",
      "50400\n",
      "50500\n",
      "50600\n",
      "50700\n",
      "50800\n",
      "50900\n",
      "51000\n",
      "51100\n",
      "51200\n",
      "51300\n",
      "51400\n",
      "51500\n",
      "51600\n",
      "51700\n",
      "51800\n",
      "51900\n",
      "52000\n",
      "52100\n",
      "52200\n",
      "52300\n",
      "52400\n",
      "52500\n",
      "52600\n",
      "52700\n",
      "52800\n",
      "52900\n",
      "53000\n",
      "53100\n",
      "53200\n",
      "53300\n",
      "53400\n",
      "53500\n",
      "53600\n",
      "53700\n",
      "53800\n",
      "53900\n",
      "54000\n",
      "54100\n",
      "54200\n",
      "54300\n",
      "54400\n",
      "54500\n",
      "54600\n",
      "54700\n",
      "54800\n",
      "54900\n",
      "55000\n",
      "55100\n",
      "55200\n",
      "55300\n",
      "55400\n",
      "55500\n",
      "55600\n",
      "55700\n",
      "55800\n",
      "55900\n",
      "56000\n",
      "56100\n",
      "56200\n",
      "56300\n",
      "56400\n",
      "56500\n",
      "56600\n",
      "56700\n",
      "56800\n",
      "56900\n",
      "57000\n",
      "57100\n",
      "57200\n",
      "57300\n",
      "57400\n",
      "57500\n",
      "57600\n",
      "57700\n",
      "57800\n",
      "57900\n",
      "58000\n",
      "58100\n",
      "58200\n",
      "58300\n",
      "58400\n",
      "58500\n",
      "58600\n",
      "58700\n",
      "58800\n",
      "58900\n",
      "59000\n",
      "59100\n",
      "59200\n",
      "59300\n",
      "59400\n",
      "59500\n",
      "59600\n",
      "59700\n",
      "59800\n",
      "59900\n",
      "2018-10-08 19:17:10.953139\n"
     ]
    }
   ],
   "source": [
    "# for i in range(len(sentencas_teste)):\n",
    "print(datetime.datetime.now())\n",
    "cont=0\n",
    "# testes_classificados=[]\n",
    "for i in range(50000,60000):\n",
    "    if i%100==0:\n",
    "        print(i)\n",
    "    sent=sentencas_teste[i]+[('%%%%%','FIM',None,None,None)]\n",
    "    viterbi={}\n",
    "    viterbi[('INICIO','INICIO')]=[('INICIO',0),('INICIO',0)]\n",
    "    \n",
    "    for j in range(len(sent)):\n",
    "        viterbi_old=dict(viterbi)\n",
    "        viterbi={}\n",
    "        for key in viterbi_old:\n",
    "            for l in range(len(colunas)):\n",
    "                if colunas[l]=='INICIO':\n",
    "                    continue\n",
    "                emissao=max(B[colunas[l]].get(sent[j][0],np.NINF),B[colunas[l]]['#####'])\n",
    "                log_prob=viterbi_old[key][-1][1]+A[linhas.index(key),l]+emissao\n",
    "                if viterbi.get((key[1],colunas[l]),[(None,np.NINF)])[-1][1]<log_prob:\n",
    "                    viterbi[(key[1],colunas[l])]=viterbi_old[key]+[(colunas[l],log_prob)]\n",
    "    testes_classificados.append(max([viterbi[key] for key in viterbi],key=lambda x:x[-1][1])[2:])\n",
    "print(datetime.datetime.now())"
   ]
  },
  {
   "cell_type": "code",
   "execution_count": 27,
   "metadata": {
    "scrolled": true
   },
   "outputs": [
    {
     "data": {
      "text/plain": [
       "[('DET', ('DET', -2.3613424198220643)),\n",
       " ('N', ('N', -10.367096364920029)),\n",
       " ('V', ('V', -18.932216697471848)),\n",
       " ('PRP', ('PRP', -22.693054875433923)),\n",
       " ('V', ('V', -32.864302366191325)),\n",
       " ('ADV', ('ADV', -39.61555497600045)),\n",
       " ('DET', ('DET', -42.45546106540909)),\n",
       " ('PROP', ('PROP', -51.461848375567214)),\n",
       " ('ADJ', ('ADJ', -65.72154617660699)),\n",
       " ('PRP', ('PRP', -67.85094530847785)),\n",
       " ('N', ('N', -77.49720331989587)),\n",
       " ('KC', ('KC', -80.33317072629131)),\n",
       " ('N', ('N', -89.07405278019245)),\n",
       " ('.', ('.', -90.99051350403263))]"
      ]
     },
     "execution_count": 27,
     "metadata": {},
     "output_type": "execute_result"
    }
   ],
   "source": [
    "list(zip([e[1] for e in sentencas_teste[0]],testes_classificados[0]))"
   ]
  },
  {
   "cell_type": "code",
   "execution_count": 109,
   "metadata": {
    "collapsed": true
   },
   "outputs": [],
   "source": [
    "corretos_viterbi=0\n",
    "total_viterbi=0\n",
    "for i in range(60000):\n",
    "    for j in range(len(sentencas_teste[i])):\n",
    "        if sentencas_teste[i][j][1]==testes_classificados[i][j][0]:\n",
    "            corretos_viterbi+=1\n",
    "        total_viterbi+=1"
   ]
  },
  {
   "cell_type": "code",
   "execution_count": 110,
   "metadata": {},
   "outputs": [
    {
     "data": {
      "text/plain": [
       "1038305"
      ]
     },
     "execution_count": 110,
     "metadata": {},
     "output_type": "execute_result"
    }
   ],
   "source": [
    "total_viterbi"
   ]
  },
  {
   "cell_type": "code",
   "execution_count": 111,
   "metadata": {},
   "outputs": [
    {
     "data": {
      "text/plain": [
       "1006324"
      ]
     },
     "execution_count": 111,
     "metadata": {},
     "output_type": "execute_result"
    }
   ],
   "source": [
    "corretos_viterbi"
   ]
  },
  {
   "cell_type": "code",
   "execution_count": 112,
   "metadata": {},
   "outputs": [
    {
     "data": {
      "text/plain": [
       "0.9691988384915801"
      ]
     },
     "execution_count": 112,
     "metadata": {},
     "output_type": "execute_result"
    }
   ],
   "source": [
    "corretos_viterbi/total_viterbi"
   ]
  },
  {
   "cell_type": "code",
   "execution_count": 113,
   "metadata": {
    "scrolled": true
   },
   "outputs": [
    {
     "name": "stdout",
     "output_type": "stream",
     "text": [
      "0\n",
      "100000\n",
      "200000\n",
      "300000\n",
      "400000\n",
      "500000\n",
      "600000\n",
      "700000\n",
      "800000\n",
      "900000\n",
      "1000000\n",
      "1100000\n",
      "1200000\n"
     ]
    }
   ],
   "source": [
    "dict_freq={}\n",
    "full_pos=set({})\n",
    "for i in range(len(sentencas_treino)):\n",
    "    if i%100000==0:\n",
    "        print(i)\n",
    "    for j in range(len(sentencas_treino[i])):\n",
    "        if sentencas_treino[i][j][0] not in dict_freq:\n",
    "            dict_freq[sentencas_treino[i][j][0]]={}\n",
    "        try:\n",
    "            dict_freq[sentencas_treino[i][j][0]][sentencas_treino[i][j][1]]=dict_freq[sentencas_treino[i][j][0]].get(sentencas_treino[i][j][1],0)+1\n",
    "            full_pos.add(sentencas_treino[i][j][1])\n",
    "        except:\n",
    "            print(i,j)\n",
    "            print(sentencas_treino[i][j])\n"
   ]
  },
  {
   "cell_type": "code",
   "execution_count": 114,
   "metadata": {
    "collapsed": true
   },
   "outputs": [],
   "source": [
    "for token in dict_freq:\n",
    "    max_pos = max(dict_freq[token], key=dict_freq[token].get)\n",
    "    dict_freq[token]['max_pos']=max_pos"
   ]
  },
  {
   "cell_type": "code",
   "execution_count": 115,
   "metadata": {},
   "outputs": [
    {
     "name": "stdout",
     "output_type": "stream",
     "text": [
      "0\n"
     ]
    }
   ],
   "source": [
    "total_naive=0\n",
    "corretos_naive=0\n",
    "for i in range(60000):\n",
    "    if i%100000==0:\n",
    "        print(i)\n",
    "    for j in range(len(sentencas_teste[i])):\n",
    "#         if sentencas[i][j][3]!='pontuação':\n",
    "#             continue\n",
    "        total_naive+=1\n",
    "#         try:\n",
    "#             sentencas_teste[i][j]=sentencas_teste[i][j]+tuple([dict_freq[sentencas_teste[i][j][0]]['max_pos']])\n",
    "        try:\n",
    "            if sentencas_teste[i][j][1]==dict_freq[sentencas_teste[i][j][0]]['max_pos']:\n",
    "                corretos_naive+=1\n",
    "        except:\n",
    "            pass\n",
    "#         except:\n",
    "#             pass"
   ]
  },
  {
   "cell_type": "code",
   "execution_count": 116,
   "metadata": {},
   "outputs": [
    {
     "data": {
      "text/plain": [
       "1038305"
      ]
     },
     "execution_count": 116,
     "metadata": {},
     "output_type": "execute_result"
    }
   ],
   "source": [
    "total_naive"
   ]
  },
  {
   "cell_type": "code",
   "execution_count": 117,
   "metadata": {},
   "outputs": [
    {
     "data": {
      "text/plain": [
       "981532"
      ]
     },
     "execution_count": 117,
     "metadata": {},
     "output_type": "execute_result"
    }
   ],
   "source": [
    "corretos_naive"
   ]
  },
  {
   "cell_type": "code",
   "execution_count": 118,
   "metadata": {},
   "outputs": [
    {
     "data": {
      "text/plain": [
       "0.9453214614202956"
      ]
     },
     "execution_count": 118,
     "metadata": {},
     "output_type": "execute_result"
    }
   ],
   "source": [
    "corretos_naive/total_naive"
   ]
  },
  {
   "cell_type": "code",
   "execution_count": null,
   "metadata": {
    "collapsed": true
   },
   "outputs": [],
   "source": []
  }
 ],
 "metadata": {
  "kernelspec": {
   "display_name": "Python 3",
   "language": "python",
   "name": "python3"
  },
  "language_info": {
   "codemirror_mode": {
    "name": "ipython",
    "version": 3
   },
   "file_extension": ".py",
   "mimetype": "text/x-python",
   "name": "python",
   "nbconvert_exporter": "python",
   "pygments_lexer": "ipython3",
   "version": "3.6.3"
  }
 },
 "nbformat": 4,
 "nbformat_minor": 2
}
